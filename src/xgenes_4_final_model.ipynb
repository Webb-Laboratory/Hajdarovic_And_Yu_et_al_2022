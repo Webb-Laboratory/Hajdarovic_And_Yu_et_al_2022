{
 "cells": [
  {
   "cell_type": "markdown",
   "metadata": {},
   "source": [
    "# Using the expression of genes on the X-chromosome to predict young or aged cells (4/5 -- final model over 50 random states)"
   ]
  },
  {
   "cell_type": "markdown",
   "metadata": {},
   "source": [
    "## Outline\n",
    "\n",
    "The **Xgene** workflow consists of four sections:\n",
    "\n",
    "I. Exploratory data analysis (EDA) (1/5)\n",
    "\n",
    "II. preprocessing and model tunning (2/5)\n",
    "\n",
    "III. Model comparison (3/5)\n",
    "\n",
    "IV. Final model over 50 random states (4/5, this notebook)\n",
    "\n",
    "1. [Choose the best hyperparameter](#1.-choose)\n",
    "\n",
    "\n",
    "2. [Run the model over 50 random states using the best hyperparameter](#2.-run)\n",
    "\n",
    "V. Results and intepretations (5/5)"
   ]
  },
  {
   "cell_type": "markdown",
   "metadata": {},
   "source": [
    "## 1. Choose the best hyperparameter<a name=\"1.-choose\"></a>"
   ]
  },
  {
   "cell_type": "code",
   "execution_count": 1,
   "metadata": {},
   "outputs": [],
   "source": [
    "import sys\n",
    "import scanpy as sc\n",
    "import anndata\n",
    "import pandas as pd\n",
    "import numpy as np\n",
    "import os\n",
    "\n",
    "data_type = 'float32'\n",
    "\n",
    "import matplotlib as mpl\n",
    "from matplotlib import rcParams\n",
    "import matplotlib.pyplot as plt\n",
    "import seaborn as sns\n",
    "\n",
    "# silence scanpy that prints a lot of warnings\n",
    "import warnings\n",
    "warnings.filterwarnings('ignore')\n",
    "\n",
    "from sklearn.model_selection import GridSearchCV, KFold, train_test_split, ParameterGrid\n",
    "from sklearn.metrics import make_scorer, accuracy_score\n",
    "from sklearn.pipeline import Pipeline, make_pipeline\n",
    "from sklearn.preprocessing import OneHotEncoder, StandardScaler\n",
    "from sklearn.compose import ColumnTransformer\n",
    "import pickle\n",
    "\n",
    "import tqdm\n",
    "from tqdm import tqdm\n",
    "\n",
    "import xgboost\n",
    "from xgboost import XGBClassifier"
   ]
  },
  {
   "cell_type": "code",
   "execution_count": 2,
   "metadata": {},
   "outputs": [],
   "source": [
    "merged_features = pd.read_csv('snhypo_neuron_x_12.csv', index_col=0)\n",
    "y = merged_features['target']\n",
    "\n",
    "features = list(merged_features.columns)\n",
    "features.remove('target')\n",
    "features.remove('group')\n",
    "X = merged_features[features]"
   ]
  },
  {
   "cell_type": "code",
   "execution_count": 3,
   "metadata": {},
   "outputs": [],
   "source": [
    "cat_ftrs = ['tree.ident']\n",
    "\n",
    "features = list(merged_features.columns)\n",
    "features.remove('target')\n",
    "features.remove('group')\n",
    "cont_ftrs = features[1:-1]\n",
    "\n",
    "categorical_transformer = Pipeline(steps=[\n",
    "        ('onehot', OneHotEncoder(sparse=False,handle_unknown='ignore'))])\n",
    "\n",
    "    # standard scaler for continuous feature\n",
    "numeric_transformer = Pipeline(steps=[\n",
    "        ('scaler', StandardScaler())])\n",
    "\n",
    "preprocess = ColumnTransformer(\n",
    "        transformers=[\n",
    "            ('num', numeric_transformer, cont_ftrs),\n",
    "            ('cat', categorical_transformer, cat_ftrs)])"
   ]
  },
  {
   "cell_type": "code",
   "execution_count": 93,
   "metadata": {
    "scrolled": false
   },
   "outputs": [
    {
     "name": "stderr",
     "output_type": "stream",
     "text": [
      " 20%|██        | 1/5 [12:57<51:49, 777.28s/it]"
     ]
    },
    {
     "name": "stdout",
     "output_type": "stream",
     "text": [
      "\n",
      "random state:  0\n",
      "the best validation score:  0.7865  when max depth =  5 with test score:  0.7824435112977405\n"
     ]
    },
    {
     "name": "stderr",
     "output_type": "stream",
     "text": [
      "\r",
      " 40%|████      | 2/5 [25:18<37:48, 756.27s/it]"
     ]
    },
    {
     "name": "stdout",
     "output_type": "stream",
     "text": [
      "\n",
      "random state:  42\n",
      "the best validation score:  0.8035491127218195  when max depth =  8 with test score:  0.7880423915216956\n"
     ]
    },
    {
     "name": "stderr",
     "output_type": "stream",
     "text": [
      "\r",
      " 60%|██████    | 3/5 [38:18<25:33, 766.99s/it]"
     ]
    },
    {
     "name": "stdout",
     "output_type": "stream",
     "text": [
      "\n",
      "random state:  84\n",
      "the best validation score:  0.7855  when max depth =  8 with test score:  0.7832433513297341\n"
     ]
    },
    {
     "name": "stderr",
     "output_type": "stream",
     "text": [
      "\r",
      " 80%|████████  | 4/5 [51:01<12:45, 765.41s/it]"
     ]
    },
    {
     "name": "stdout",
     "output_type": "stream",
     "text": [
      "\n",
      "random state:  126\n",
      "the best validation score:  0.7845  when max depth =  15 with test score:  0.764247150569886\n"
     ]
    },
    {
     "name": "stderr",
     "output_type": "stream",
     "text": [
      "100%|██████████| 5/5 [1:03:41<00:00, 764.26s/it]"
     ]
    },
    {
     "name": "stdout",
     "output_type": "stream",
     "text": [
      "\n",
      "random state:  168\n",
      "the best validation score:  0.7833041739565109  when max depth =  5 with test score:  0.7710457908418317\n"
     ]
    },
    {
     "name": "stderr",
     "output_type": "stream",
     "text": [
      "\n"
     ]
    }
   ],
   "source": [
    "param_grid = {\"learning_rate\": [0.03],\n",
    "              \"n_estimators\": [10000],\n",
    "              #\"seed\": [0],\n",
    "              #\"reg_alpha\": [0e0, 1e-2, 1e-1, 1e0, 1e1, 1e2],\n",
    "              #\"reg_lambda\": [0e0, 1e-2, 1e-1, 1e0, 1e1, 1e2],\n",
    "              #\"missing\": [np.nan], \n",
    "              # \"max_depth\": [10],\n",
    "              \"colsample_bytree\": [0.9],              \n",
    "              \"subsample\": [0.66],\n",
    "              \"eval_metric\": ['logloss']}\n",
    "\n",
    "\n",
    "\n",
    "max_depth = [1, 2, 3, 4, 5, 8, 10, 15, 20]\n",
    "\n",
    "train_scores = []\n",
    "test_scores = []\n",
    "cv_scores = []\n",
    "max_depths = []\n",
    "\n",
    "best_max = []\n",
    "best_test = []\n",
    "\n",
    "for i in tqdm(range(5)):\n",
    "    train_scores_tmp = []\n",
    "    test_scores_tmp = []\n",
    "    cv_scores_tmp = []\n",
    "    max_depths_tmp = []\n",
    "    \n",
    "    random_state = 42*i\n",
    "    param_grid['seed'] = [random_state]\n",
    "    # split the data to other and test (80-20)\n",
    "    X_other, X_test, y_other, y_test = train_test_split(X, y,\n",
    "                                                    test_size=0.2,\n",
    "                                                    random_state=random_state)\n",
    "    # Since the data is not group based, \n",
    "    # use KFold with 4 folds: 3/4 of the data points for training and\n",
    "    # 1/4 of the data points for cross validation\n",
    "   \n",
    "    kfold = KFold(n_splits=5, shuffle=True, random_state=random_state)\n",
    "    X_test0 = pd.DataFrame(X_test)\n",
    "    \n",
    "    for train_idx, cv_idx in kfold.split(X_other): \n",
    "        X_train, X_cv = X_other.iloc[train_idx], X_other.iloc[cv_idx]\n",
    "        y_train, y_cv = y_other.iloc[train_idx], y_other.iloc[cv_idx]\n",
    "        \n",
    "        X_train = preprocess.fit_transform(X_train)\n",
    "\n",
    "        X_test = preprocess.transform(X_test0)\n",
    "        X_cv = preprocess.transform(X_cv)\n",
    "    \n",
    "        for j in max_depth:\n",
    "            param_grid['max_depth'] = [j]\n",
    "            XGB = XGBClassifier()\n",
    "            XGB.set_params(**ParameterGrid(param_grid)[0])\n",
    "            XGB.fit(X_train,y_train,early_stopping_rounds=50,eval_set=[(X_cv, y_cv)], verbose=False)\n",
    "\n",
    "            y_train_pred = XGB.predict(X_train)\n",
    "            y_test_pred = XGB.predict(X_test)\n",
    "            y_cv_pred = XGB.predict(X_cv)\n",
    "            # Accumulate the training and validation scores into tmp arrays, \n",
    "            train_scores_tmp.append(accuracy_score(y_train,y_train_pred))\n",
    "            test_scores_tmp.append(accuracy_score(y_test,y_test_pred))\n",
    "            cv_scores_tmp.append(accuracy_score(y_cv,y_cv_pred))\n",
    "            max_depths_tmp.append(j)\n",
    "    \n",
    "    # Accumulate the training and validation scores into arrays\n",
    "    train_scores = train_scores + train_scores_tmp\n",
    "    cv_scores = cv_scores + cv_scores_tmp\n",
    "    \n",
    "    test_scores = test_scores + test_scores_tmp\n",
    "    max_depths = max_depths + max_depths_tmp\n",
    "    \n",
    "    \n",
    "    \n",
    "    # print out the best test score and the best max depth value\n",
    "    print('\\nrandom state: ', random_state)\n",
    "    \n",
    "    best_max.append(max_depths_tmp[np.argmax(cv_scores_tmp)])\n",
    "    best_test.append(test_scores_tmp[np.argmax(cv_scores_tmp)])\n",
    "    \n",
    "    print('the best validation score: ', max(cv_scores_tmp), \n",
    "          ' when max depth = ', best_max[i],\n",
    "         'with test score: ', best_test[i])"
   ]
  },
  {
   "cell_type": "code",
   "execution_count": 115,
   "metadata": {},
   "outputs": [],
   "source": [
    "# fit transform the features once, and store it\n",
    "feature_names = cont_ftrs + list(preprocess.transformers_[1][1]['onehot'].get_feature_names())\n",
    "\n",
    "file = open('./data/feature_names.save', 'wb')\n",
    "pickle.dump((feature_names),file)\n",
    "file.close()"
   ]
  },
  {
   "cell_type": "code",
   "execution_count": 95,
   "metadata": {},
   "outputs": [
    {
     "name": "stdout",
     "output_type": "stream",
     "text": [
      "mean_train: [0.77986351 0.82254888 0.86282436 0.90193248 0.95135501 0.99644019\n",
      " 0.99945253 0.99999    0.9999925 ] \n",
      "std_train: [4.38182391e-03 5.90907112e-03 9.08403270e-03 1.64660868e-02\n",
      " 1.53990122e-02 2.43215503e-03 4.59003865e-04 2.29114465e-05\n",
      " 2.03092498e-05]\n",
      "mean_val: [0.75504191 0.76942122 0.77392106 0.77643085 0.77799088 0.77920071\n",
      " 0.77735073 0.77410102 0.77306103] \n",
      "std_val: [0.00687104 0.00660237 0.00565283 0.00621269 0.0063907  0.00738479\n",
      " 0.0075123  0.00770836 0.00841634]\n"
     ]
    },
    {
     "data": {
      "image/png": "[encoded data removed]",
      "text/plain": [
       "<Figure size 432x288 with 1 Axes>"
      ]
     },
     "metadata": {
      "needs_background": "light"
     },
     "output_type": "display_data"
    }
   ],
   "source": [
    "import matplotlib.pyplot as plt\n",
    "\n",
    "depth = len(max_depth)\n",
    "\n",
    "mean_train = np.zeros(depth)\n",
    "std_train = np.zeros(depth)\n",
    "\n",
    "mean_test = np.zeros(depth)\n",
    "std_test = np.zeros(depth)\n",
    "\n",
    "mean_cv = np.zeros(depth)\n",
    "std_cv = np.zeros(depth)\n",
    "\n",
    "train_scores = np.array(train_scores)\n",
    "cv_scores = np.array(cv_scores)\n",
    "test_scores = np.array(test_scores)\n",
    "max_depths = np.array(max_depths)\n",
    "\n",
    "for i in range(depth):\n",
    "    mean_train[i] = np.mean(train_scores[max_depths == max_depth[i]])\n",
    "    std_train[i] = np.std(train_scores[max_depths == max_depth[i]])\n",
    "    \n",
    "    mean_test[i] = np.mean(test_scores[max_depths == max_depth[i]])\n",
    "    std_test[i] = np.std(test_scores[max_depths == max_depth[i]])\n",
    "\n",
    "    mean_cv[i] = np.mean(cv_scores[max_depths == max_depth[i]])\n",
    "    std_cv[i] = np.std(cv_scores[max_depths == max_depth[i]])\n",
    "    \n",
    "print('mean_train:', mean_train, '\\nstd_train:', std_train)\n",
    "print('mean_val:', mean_cv, '\\nstd_val:', std_cv)\n",
    "\n",
    "plt.errorbar(max_depth, mean_train, yerr=std_train, fmt='o', label='train')\n",
    "plt.errorbar(max_depth, mean_cv, yerr=std_cv, fmt='o', label='validation')\n",
    "plt.errorbar(max_depth, mean_test, yerr=std_test, fmt='o', label='test')\n",
    "\n",
    "#plt.semilogx()\n",
    "plt.title('mean and std of the train and validation as a function of max_depth')\n",
    "plt.ylabel('accuracy score')\n",
    "plt.xlabel('max_depth')\n",
    "plt.legend()\n",
    "plt.show()"
   ]
  },
  {
   "cell_type": "markdown",
   "metadata": {},
   "source": [
    "## 2. Run the model over 50 random states using the best hyperparameter<a name=\"2.-run\"></a>"
   ]
  },
  {
   "cell_type": "code",
   "execution_count": 4,
   "metadata": {},
   "outputs": [],
   "source": [
    "file = open('./data/feature_names.save', 'rb')\n",
    "feature_names = pickle.load(file)\n",
    "file.close()"
   ]
  },
  {
   "cell_type": "code",
   "execution_count": 164,
   "metadata": {
    "scrolled": true
   },
   "outputs": [
    {
     "name": "stderr",
     "output_type": "stream",
     "text": [
      "  2%|▏         | 1/50 [01:22<1:07:43, 82.93s/it]"
     ]
    },
    {
     "name": "stdout",
     "output_type": "stream",
     "text": [
      "\n",
      "random state:  0\n",
      "the best validation score:  0.7865 with test score:  0.7824435112977405\n"
     ]
    },
    {
     "name": "stderr",
     "output_type": "stream",
     "text": [
      "\r",
      "  4%|▍         | 2/50 [02:45<1:05:59, 82.50s/it]"
     ]
    },
    {
     "name": "stdout",
     "output_type": "stream",
     "text": [
      "\n",
      "random state:  42\n",
      "the best validation score:  0.7953011747063234 with test score:  0.7926414717056589\n"
     ]
    },
    {
     "name": "stderr",
     "output_type": "stream",
     "text": [
      "\r",
      "  6%|▌         | 3/50 [04:01<1:02:23, 79.64s/it]"
     ]
    },
    {
     "name": "stdout",
     "output_type": "stream",
     "text": [
      "\n",
      "random state:  84\n",
      "the best validation score:  0.781 with test score:  0.7768446310737852\n"
     ]
    },
    {
     "name": "stderr",
     "output_type": "stream",
     "text": [
      "\r",
      "  8%|▊         | 4/50 [05:25<1:02:30, 81.54s/it]"
     ]
    },
    {
     "name": "stdout",
     "output_type": "stream",
     "text": [
      "\n",
      "random state:  126\n",
      "the best validation score:  0.7823044238940265 with test score:  0.7726454709058188\n"
     ]
    },
    {
     "name": "stderr",
     "output_type": "stream",
     "text": [
      "\r",
      " 10%|█         | 5/50 [06:42<59:47, 79.72s/it]  "
     ]
    },
    {
     "name": "stdout",
     "output_type": "stream",
     "text": [
      "\n",
      "random state:  168\n",
      "the best validation score:  0.7833041739565109 with test score:  0.7710457908418317\n"
     ]
    },
    {
     "name": "stderr",
     "output_type": "stream",
     "text": [
      "\r",
      " 12%|█▏        | 6/50 [08:05<59:23, 80.99s/it]"
     ]
    },
    {
     "name": "stdout",
     "output_type": "stream",
     "text": [
      "\n",
      "random state:  210\n",
      "the best validation score:  0.78575 with test score:  0.7824435112977405\n"
     ]
    },
    {
     "name": "stderr",
     "output_type": "stream",
     "text": [
      "\r",
      " 14%|█▍        | 7/50 [09:20<56:33, 78.91s/it]"
     ]
    },
    {
     "name": "stdout",
     "output_type": "stream",
     "text": [
      "\n",
      "random state:  252\n",
      "the best validation score:  0.78575 with test score:  0.7858428314337133\n"
     ]
    },
    {
     "name": "stderr",
     "output_type": "stream",
     "text": [
      "\r",
      " 16%|█▌        | 8/50 [10:32<53:48, 76.88s/it]"
     ]
    },
    {
     "name": "stdout",
     "output_type": "stream",
     "text": [
      "\n",
      "random state:  294\n",
      "the best validation score:  0.7828042989252687 with test score:  0.7794441111777645\n"
     ]
    },
    {
     "name": "stderr",
     "output_type": "stream",
     "text": [
      "\r",
      " 18%|█▊        | 9/50 [11:46<51:54, 75.97s/it]"
     ]
    },
    {
     "name": "stdout",
     "output_type": "stream",
     "text": [
      "\n",
      "random state:  336\n",
      "the best validation score:  0.784 with test score:  0.7754449110177964\n"
     ]
    },
    {
     "name": "stderr",
     "output_type": "stream",
     "text": [
      "\r",
      " 20%|██        | 10/50 [12:59<50:03, 75.08s/it]"
     ]
    },
    {
     "name": "stdout",
     "output_type": "stream",
     "text": [
      "\n",
      "random state:  378\n",
      "the best validation score:  0.7855 with test score:  0.7700459908018397\n"
     ]
    },
    {
     "name": "stderr",
     "output_type": "stream",
     "text": [
      "\r",
      " 22%|██▏       | 11/50 [14:21<50:01, 76.97s/it]"
     ]
    },
    {
     "name": "stdout",
     "output_type": "stream",
     "text": [
      "\n",
      "random state:  420\n",
      "the best validation score:  0.7885 with test score:  0.7828434313137372\n"
     ]
    },
    {
     "name": "stderr",
     "output_type": "stream",
     "text": [
      "\r",
      " 24%|██▍       | 12/50 [15:32<47:42, 75.32s/it]"
     ]
    },
    {
     "name": "stdout",
     "output_type": "stream",
     "text": [
      "\n",
      "random state:  462\n",
      "the best validation score:  0.7885 with test score:  0.7774445110977805\n"
     ]
    },
    {
     "name": "stderr",
     "output_type": "stream",
     "text": [
      "\r",
      " 26%|██▌       | 13/50 [16:54<47:33, 77.11s/it]"
     ]
    },
    {
     "name": "stdout",
     "output_type": "stream",
     "text": [
      "\n",
      "random state:  504\n",
      "the best validation score:  0.79225 with test score:  0.7724455108978204\n"
     ]
    },
    {
     "name": "stderr",
     "output_type": "stream",
     "text": [
      "\r",
      " 28%|██▊       | 14/50 [18:10<46:04, 76.79s/it]"
     ]
    },
    {
     "name": "stdout",
     "output_type": "stream",
     "text": [
      "\n",
      "random state:  546\n",
      "the best validation score:  0.78125 with test score:  0.78624275144971\n"
     ]
    },
    {
     "name": "stderr",
     "output_type": "stream",
     "text": [
      "\r",
      " 30%|███       | 15/50 [19:18<43:23, 74.38s/it]"
     ]
    },
    {
     "name": "stdout",
     "output_type": "stream",
     "text": [
      "\n",
      "random state:  588\n",
      "the best validation score:  0.783 with test score:  0.7782443511297741\n"
     ]
    },
    {
     "name": "stderr",
     "output_type": "stream",
     "text": [
      "\r",
      " 32%|███▏      | 16/50 [20:26<41:01, 72.41s/it]"
     ]
    },
    {
     "name": "stdout",
     "output_type": "stream",
     "text": [
      "\n",
      "random state:  630\n",
      "the best validation score:  0.77875 with test score:  0.7850429914017196\n"
     ]
    },
    {
     "name": "stderr",
     "output_type": "stream",
     "text": [
      "\r",
      " 34%|███▍      | 17/50 [21:43<40:36, 73.84s/it]"
     ]
    },
    {
     "name": "stdout",
     "output_type": "stream",
     "text": [
      "\n",
      "random state:  672\n",
      "the best validation score:  0.7908022994251437 with test score:  0.7694461107778444\n"
     ]
    },
    {
     "name": "stderr",
     "output_type": "stream",
     "text": [
      "\r",
      " 36%|███▌      | 18/50 [22:52<38:34, 72.31s/it]"
     ]
    },
    {
     "name": "stdout",
     "output_type": "stream",
     "text": [
      "\n",
      "random state:  714\n",
      "the best validation score:  0.7805 with test score:  0.77124575084983\n"
     ]
    },
    {
     "name": "stderr",
     "output_type": "stream",
     "text": [
      "\r",
      " 38%|███▊      | 19/50 [24:04<37:19, 72.24s/it]"
     ]
    },
    {
     "name": "stdout",
     "output_type": "stream",
     "text": [
      "\n",
      "random state:  756\n",
      "the best validation score:  0.7850537365658585 with test score:  0.7726454709058188\n"
     ]
    },
    {
     "name": "stderr",
     "output_type": "stream",
     "text": [
      "\r",
      " 40%|████      | 20/50 [25:20<36:38, 73.27s/it]"
     ]
    },
    {
     "name": "stdout",
     "output_type": "stream",
     "text": [
      "\n",
      "random state:  798\n",
      "the best validation score:  0.78925 with test score:  0.7710457908418317\n"
     ]
    },
    {
     "name": "stderr",
     "output_type": "stream",
     "text": [
      "\r",
      " 42%|████▏     | 21/50 [26:38<36:09, 74.81s/it]"
     ]
    },
    {
     "name": "stdout",
     "output_type": "stream",
     "text": [
      "\n",
      "random state:  840\n",
      "the best validation score:  0.78875 with test score:  0.7782443511297741\n"
     ]
    },
    {
     "name": "stderr",
     "output_type": "stream",
     "text": [
      "\r",
      " 44%|████▍     | 22/50 [27:50<34:26, 73.81s/it]"
     ]
    },
    {
     "name": "stdout",
     "output_type": "stream",
     "text": [
      "\n",
      "random state:  882\n",
      "the best validation score:  0.78575 with test score:  0.7828434313137372\n"
     ]
    },
    {
     "name": "stderr",
     "output_type": "stream",
     "text": [
      "\r",
      " 46%|████▌     | 23/50 [29:07<33:38, 74.75s/it]"
     ]
    },
    {
     "name": "stdout",
     "output_type": "stream",
     "text": [
      "\n",
      "random state:  924\n",
      "the best validation score:  0.78175 with test score:  0.765246950609878\n"
     ]
    },
    {
     "name": "stderr",
     "output_type": "stream",
     "text": [
      "\r",
      " 48%|████▊     | 24/50 [30:19<32:01, 73.90s/it]"
     ]
    },
    {
     "name": "stdout",
     "output_type": "stream",
     "text": [
      "\n",
      "random state:  966\n",
      "the best validation score:  0.7915 with test score:  0.7808438312337532\n"
     ]
    },
    {
     "name": "stderr",
     "output_type": "stream",
     "text": [
      "\r",
      " 50%|█████     | 25/50 [31:30<30:25, 73.02s/it]"
     ]
    },
    {
     "name": "stdout",
     "output_type": "stream",
     "text": [
      "\n",
      "random state:  1008\n",
      "the best validation score:  0.7868032991752062 with test score:  0.7880423915216956\n"
     ]
    },
    {
     "name": "stderr",
     "output_type": "stream",
     "text": [
      "\r",
      " 52%|█████▏    | 26/50 [32:47<29:45, 74.39s/it]"
     ]
    },
    {
     "name": "stdout",
     "output_type": "stream",
     "text": [
      "\n",
      "random state:  1050\n",
      "the best validation score:  0.78075 with test score:  0.7736452709458108\n"
     ]
    },
    {
     "name": "stderr",
     "output_type": "stream",
     "text": [
      "\r",
      " 54%|█████▍    | 27/50 [33:58<28:06, 73.32s/it]"
     ]
    },
    {
     "name": "stdout",
     "output_type": "stream",
     "text": [
      "\n",
      "random state:  1092\n",
      "the best validation score:  0.78025 with test score:  0.7814437112577485\n"
     ]
    },
    {
     "name": "stderr",
     "output_type": "stream",
     "text": [
      "\r",
      " 56%|█████▌    | 28/50 [35:21<27:58, 76.32s/it]"
     ]
    },
    {
     "name": "stdout",
     "output_type": "stream",
     "text": [
      "\n",
      "random state:  1134\n",
      "the best validation score:  0.78175 with test score:  0.7808438312337532\n"
     ]
    },
    {
     "name": "stderr",
     "output_type": "stream",
     "text": [
      "\r",
      " 58%|█████▊    | 29/50 [36:30<25:56, 74.11s/it]"
     ]
    },
    {
     "name": "stdout",
     "output_type": "stream",
     "text": [
      "\n",
      "random state:  1176\n",
      "the best validation score:  0.7895 with test score:  0.7768446310737852\n"
     ]
    },
    {
     "name": "stderr",
     "output_type": "stream",
     "text": [
      "\r",
      " 60%|██████    | 30/50 [37:41<24:20, 73.00s/it]"
     ]
    },
    {
     "name": "stdout",
     "output_type": "stream",
     "text": [
      "\n",
      "random state:  1218\n",
      "the best validation score:  0.786 with test score:  0.7870425914817036\n"
     ]
    },
    {
     "name": "stderr",
     "output_type": "stream",
     "text": [
      "\r",
      " 62%|██████▏   | 31/50 [39:01<23:48, 75.18s/it]"
     ]
    },
    {
     "name": "stdout",
     "output_type": "stream",
     "text": [
      "\n",
      "random state:  1260\n",
      "the best validation score:  0.7848037990502374 with test score:  0.7808438312337532\n"
     ]
    },
    {
     "name": "stderr",
     "output_type": "stream",
     "text": [
      "\r",
      " 64%|██████▍   | 32/50 [40:11<22:03, 73.53s/it]"
     ]
    },
    {
     "name": "stdout",
     "output_type": "stream",
     "text": [
      "\n",
      "random state:  1302\n",
      "the best validation score:  0.7845 with test score:  0.7752449510097981\n"
     ]
    },
    {
     "name": "stderr",
     "output_type": "stream",
     "text": [
      "\r",
      " 66%|██████▌   | 33/50 [41:27<21:05, 74.41s/it]"
     ]
    },
    {
     "name": "stdout",
     "output_type": "stream",
     "text": [
      "\n",
      "random state:  1344\n",
      "the best validation score:  0.7843039240189953 with test score:  0.7772445510897821\n"
     ]
    },
    {
     "name": "stderr",
     "output_type": "stream",
     "text": [
      "\r",
      " 68%|██████▊   | 34/50 [42:48<20:23, 76.45s/it]"
     ]
    },
    {
     "name": "stdout",
     "output_type": "stream",
     "text": [
      "\n",
      "random state:  1386\n",
      "the best validation score:  0.78825 with test score:  0.7774445110977805\n"
     ]
    },
    {
     "name": "stderr",
     "output_type": "stream",
     "text": [
      "\r",
      " 70%|███████   | 35/50 [44:09<19:24, 77.66s/it]"
     ]
    },
    {
     "name": "stdout",
     "output_type": "stream",
     "text": [
      "\n",
      "random state:  1428\n",
      "the best validation score:  0.78225 with test score:  0.7736452709458108\n"
     ]
    },
    {
     "name": "stderr",
     "output_type": "stream",
     "text": [
      "\r",
      " 72%|███████▏  | 36/50 [45:38<18:57, 81.28s/it]"
     ]
    },
    {
     "name": "stdout",
     "output_type": "stream",
     "text": [
      "\n",
      "random state:  1470\n",
      "the best validation score:  0.7885 with test score:  0.7778444311137772\n"
     ]
    },
    {
     "name": "stderr",
     "output_type": "stream",
     "text": [
      "\r",
      " 74%|███████▍  | 37/50 [46:47<16:45, 77.35s/it]"
     ]
    },
    {
     "name": "stdout",
     "output_type": "stream",
     "text": [
      "\n",
      "random state:  1512\n",
      "the best validation score:  0.7855536115971007 with test score:  0.7756448710257948\n"
     ]
    },
    {
     "name": "stderr",
     "output_type": "stream",
     "text": [
      "\r",
      " 76%|███████▌  | 38/50 [47:56<15:00, 75.07s/it]"
     ]
    },
    {
     "name": "stdout",
     "output_type": "stream",
     "text": [
      "\n",
      "random state:  1554\n",
      "the best validation score:  0.785 with test score:  0.7648470305938813\n"
     ]
    },
    {
     "name": "stderr",
     "output_type": "stream",
     "text": [
      "\r",
      " 78%|███████▊  | 39/50 [49:19<14:09, 77.25s/it]"
     ]
    },
    {
     "name": "stdout",
     "output_type": "stream",
     "text": [
      "\n",
      "random state:  1596\n",
      "the best validation score:  0.7935516120969758 with test score:  0.7728454309138172\n"
     ]
    },
    {
     "name": "stderr",
     "output_type": "stream",
     "text": [
      "\r",
      " 80%|████████  | 40/50 [50:35<12:50, 77.04s/it]"
     ]
    },
    {
     "name": "stdout",
     "output_type": "stream",
     "text": [
      "\n",
      "random state:  1638\n",
      "the best validation score:  0.77775 with test score:  0.7806438712257548\n"
     ]
    },
    {
     "name": "stderr",
     "output_type": "stream",
     "text": [
      "\r",
      " 82%|████████▏ | 41/50 [51:46<11:17, 75.25s/it]"
     ]
    },
    {
     "name": "stdout",
     "output_type": "stream",
     "text": [
      "\n",
      "random state:  1680\n",
      "the best validation score:  0.7875 with test score:  0.7738452309538092\n"
     ]
    },
    {
     "name": "stderr",
     "output_type": "stream",
     "text": [
      "\r",
      " 84%|████████▍ | 42/50 [53:03<10:05, 75.73s/it]"
     ]
    },
    {
     "name": "stdout",
     "output_type": "stream",
     "text": [
      "\n",
      "random state:  1722\n",
      "the best validation score:  0.77975 with test score:  0.7800439912017596\n"
     ]
    },
    {
     "name": "stderr",
     "output_type": "stream",
     "text": [
      "\r",
      " 86%|████████▌ | 43/50 [54:12<08:36, 73.77s/it]"
     ]
    },
    {
     "name": "stdout",
     "output_type": "stream",
     "text": [
      "\n",
      "random state:  1764\n",
      "the best validation score:  0.784 with test score:  0.7790441911617676\n"
     ]
    },
    {
     "name": "stderr",
     "output_type": "stream",
     "text": [
      "\r",
      " 88%|████████▊ | 44/50 [55:17<07:06, 71.02s/it]"
     ]
    },
    {
     "name": "stdout",
     "output_type": "stream",
     "text": [
      "\n",
      "random state:  1806\n",
      "the best validation score:  0.7825 with test score:  0.7792441511697661\n"
     ]
    },
    {
     "name": "stderr",
     "output_type": "stream",
     "text": [
      "\r",
      " 90%|█████████ | 45/50 [56:29<05:56, 71.29s/it]"
     ]
    },
    {
     "name": "stdout",
     "output_type": "stream",
     "text": [
      "\n",
      "random state:  1848\n",
      "the best validation score:  0.78525 with test score:  0.7768446310737852\n"
     ]
    },
    {
     "name": "stderr",
     "output_type": "stream",
     "text": [
      "\r",
      " 92%|█████████▏| 46/50 [57:47<04:53, 73.34s/it]"
     ]
    },
    {
     "name": "stdout",
     "output_type": "stream",
     "text": [
      "\n",
      "random state:  1890\n",
      "the best validation score:  0.7825 with test score:  0.7788442311537692\n"
     ]
    },
    {
     "name": "stderr",
     "output_type": "stream",
     "text": [
      "\r",
      " 94%|█████████▍| 47/50 [59:01<03:40, 73.53s/it]"
     ]
    },
    {
     "name": "stdout",
     "output_type": "stream",
     "text": [
      "\n",
      "random state:  1932\n",
      "the best validation score:  0.7795 with test score:  0.7884423115376925\n"
     ]
    },
    {
     "name": "stderr",
     "output_type": "stream",
     "text": [
      "\r",
      " 96%|█████████▌| 48/50 [1:00:17<02:28, 74.28s/it]"
     ]
    },
    {
     "name": "stdout",
     "output_type": "stream",
     "text": [
      "\n",
      "random state:  1974\n",
      "the best validation score:  0.7830542364408898 with test score:  0.7678464307138573\n"
     ]
    },
    {
     "name": "stderr",
     "output_type": "stream",
     "text": [
      "\r",
      " 98%|█████████▊| 49/50 [1:01:18<01:10, 70.19s/it]"
     ]
    },
    {
     "name": "stdout",
     "output_type": "stream",
     "text": [
      "\n",
      "random state:  2016\n",
      "the best validation score:  0.7815 with test score:  0.7802439512097581\n"
     ]
    },
    {
     "name": "stderr",
     "output_type": "stream",
     "text": [
      "100%|██████████| 50/50 [1:02:37<00:00, 75.16s/it]"
     ]
    },
    {
     "name": "stdout",
     "output_type": "stream",
     "text": [
      "\n",
      "random state:  2058\n",
      "the best validation score:  0.791 with test score:  0.7650469906018796\n"
     ]
    },
    {
     "name": "stderr",
     "output_type": "stream",
     "text": [
      "\n"
     ]
    }
   ],
   "source": [
    "param_grid = {\"learning_rate\": [0.03],\n",
    "              \"n_estimators\": [10000],\n",
    "              #\"seed\": [0],\n",
    "              #\"reg_alpha\": [0e0, 1e-2, 1e-1, 1e0, 1e1, 1e2],\n",
    "              #\"reg_lambda\": [0e0, 1e-2, 1e-1, 1e0, 1e1, 1e2],\n",
    "              #\"missing\": [np.nan], \n",
    "              \"max_depth\": [5],\n",
    "              \"colsample_bytree\": [0.9],              \n",
    "              \"subsample\": [0.66],\n",
    "              \"eval_metric\": ['logloss']}\n",
    "\n",
    "\n",
    "models = []\n",
    "best_test = []\n",
    "test_sets = []\n",
    "\n",
    "for i in tqdm(range(50)):\n",
    "    test_scores_tmp = []\n",
    "    cv_scores_tmp = []\n",
    "    models_tmp = []\n",
    "    test_sets_temp = []\n",
    "    \n",
    "    random_state = 42*i\n",
    "    param_grid['seed'] = [random_state]\n",
    "    # split the data to other and test (80-20)\n",
    "    X_other, X_test, y_other, y_test = train_test_split(X, y,\n",
    "                                                    test_size=0.2,\n",
    "                                                    random_state=random_state)\n",
    "    # Since the data is not group based, \n",
    "    # use KFold with 4 folds: 3/4 of the data points for training and\n",
    "    # 1/4 of the data points for cross validation\n",
    "   \n",
    "    kfold = KFold(n_splits=5, shuffle=True, random_state=random_state)\n",
    "    X_test0 = pd.DataFrame(X_test)\n",
    "    \n",
    "    for train_idx, cv_idx in kfold.split(X_other): \n",
    "        X_train, X_cv = X_other.iloc[train_idx], X_other.iloc[cv_idx]\n",
    "        y_train, y_cv = y_other.iloc[train_idx], y_other.iloc[cv_idx]\n",
    "        \n",
    "        X_train = preprocess.fit_transform(X_train)\n",
    "        df_train = pd.DataFrame(data=X_train,columns = feature_names)\n",
    "\n",
    "        X_cv = preprocess.transform(X_cv)\n",
    "        df_cv = pd.DataFrame(data=X_cv, columns = feature_names)\n",
    "        \n",
    "        X_test = preprocess.transform(X_test0)\n",
    "        df_test = pd.DataFrame(data=X_test,columns = feature_names)\n",
    "\n",
    "        \n",
    "        XGB = XGBClassifier()\n",
    "        XGB.set_params(**ParameterGrid(param_grid)[0])\n",
    "        XGB.fit(df_train,y_train,early_stopping_rounds=50,eval_set=[(df_cv, y_cv)], verbose=False)\n",
    "\n",
    "        y_test_pred = XGB.predict(df_test)\n",
    "        y_cv_pred = XGB.predict(df_cv)\n",
    "        \n",
    "        # Accumulate the training and validation scores into tmp arrays, \n",
    "        test_scores_tmp.append(accuracy_score(y_test,y_test_pred))\n",
    "        cv_scores_tmp.append(accuracy_score(y_cv,y_cv_pred))\n",
    "        models_tmp.append(XGB)\n",
    "        test_sets_temp.append((df_test, y_test))\n",
    "        \n",
    "    # Accumulate the training and validation scores into arrays\n",
    "    best_test.append(test_scores_tmp[np.argmax(cv_scores_tmp)])\n",
    "    models.append(models_tmp[np.argmax(cv_scores_tmp)])\n",
    "    test_sets.append(test_sets_temp[np.argmax(cv_scores_tmp)])\n",
    "    # print out the best test score and the best max depth value\n",
    "    print('\\nrandom state: ', random_state)\n",
    "\n",
    "    print('the best validation score: ', max(cv_scores_tmp),\n",
    "         'with test score: ', best_test[i])"
   ]
  },
  {
   "cell_type": "code",
   "execution_count": 5,
   "metadata": {},
   "outputs": [],
   "source": [
    "file = open('./results/xgbc_final.save', 'wb')\n",
    "pickle.dump(models, file)\n",
    "file.close()\n",
    "\n",
    "file = open('./results/xgbc_final_test_score.save', 'wb')\n",
    "pickle.dump(best_test, file)\n",
    "file.close()\n",
    "\n",
    "file = open('./data/test_sets_final.save', 'wb')\n",
    "pickle.dump((test_sets),file)\n",
    "file.close()"
   ]
  }
 ],
 "metadata": {
  "kernelspec": {
   "display_name": "cellpymc",
   "language": "python",
   "name": "cellpymc"
  },
  "language_info": {
   "codemirror_mode": {
    "name": "ipython",
    "version": 3
   },
   "file_extension": ".py",
   "mimetype": "text/x-python",
   "name": "python",
   "nbconvert_exporter": "python",
   "pygments_lexer": "ipython3",
   "version": "3.7.10"
  }
 },
 "nbformat": 4,
 "nbformat_minor": 4
}
